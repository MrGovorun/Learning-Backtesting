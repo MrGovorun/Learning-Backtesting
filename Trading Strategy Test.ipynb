{
 "cells": [
  {
   "cell_type": "markdown",
   "id": "cedcb2db",
   "metadata": {},
   "source": [
    "### Install libs"
   ]
  },
  {
   "cell_type": "code",
   "execution_count": null,
   "id": "17bd834f",
   "metadata": {},
   "outputs": [],
   "source": [
    "pip install pandas\n",
    "pip install python-binance\n",
    "pip install sqlalchemy\n",
    "pip install backtesting"
   ]
  },
  {
   "cell_type": "markdown",
   "id": "578cd1f7",
   "metadata": {},
   "source": [
    "### Import libs for working with data"
   ]
  },
  {
   "cell_type": "code",
   "execution_count": null,
   "id": "c2dfc7a5",
   "metadata": {},
   "outputs": [],
   "source": [
    "import pandas as pd\n",
    "from sqlalchemy import create_engine\n",
    "from binance.client import Client \n",
    "\n",
    "#create client for getting data and create connection to db\n",
    "client = Client()\n",
    "engine = create_engine('sqlite:///test_stocks.db')"
   ]
  },
  {
   "cell_type": "markdown",
   "id": "ed42ff50",
   "metadata": {},
   "source": [
    "### Import libs for testing strategy"
   ]
  },
  {
   "cell_type": "code",
   "execution_count": null,
   "id": "255c4c4a",
   "metadata": {},
   "outputs": [],
   "source": [
    "from backtesting import Backtest, Strategy\n",
    "from backtesting.lib import crossover\n",
    "from backtesting.test import SMA\n",
    "from datetime import timedelta"
   ]
  },
  {
   "cell_type": "markdown",
   "id": "ffaf81ad",
   "metadata": {},
   "source": [
    "### Initialize function to getting data from binance\n",
    "Create function, list of tickers, period and get data. Then write all in DB"
   ]
  },
  {
   "cell_type": "code",
   "execution_count": null,
   "id": "0c0926e4",
   "metadata": {},
   "outputs": [],
   "source": [
    "def get_data(stock, start):\n",
    "    frame = pd.DataFrame(client.get_historical_klines(\n",
    "        stock, \n",
    "        '1m', \n",
    "        start))\n",
    "    frame = frame[[0,1,2,3,4]]\n",
    "    frame.columns = ['Date','Open','High','Low','Close']\n",
    "    frame.Date = pd.to_datetime(frame.Date, unit='ms')\n",
    "    frame.set_index('Date', inplace=True)\n",
    "    frame = frame.astype(float)\n",
    "    return frame"
   ]
  },
  {
   "cell_type": "code",
   "execution_count": null,
   "id": "d748731c",
   "metadata": {},
   "outputs": [],
   "source": [
    "#list of stocks\n",
    "stoks_list = ['BTCUSDT','SOLUSDT','EGLDUSDT',\n",
    "              'DOGEUSDT','ETHUSDT','XRPUSDT','BNBUSDT']"
   ]
  },
  {
   "cell_type": "code",
   "execution_count": null,
   "id": "b2fb397a",
   "metadata": {},
   "outputs": [],
   "source": [
    "#get data for all stocks in list and write it in DB\n",
    "for stock in stoks_list:\n",
    "    df = get_data(stock,'80 days ago UTC')\n",
    "    df.to_sql(stock,engine)"
   ]
  },
  {
   "cell_type": "code",
   "execution_count": null,
   "id": "3436ad26",
   "metadata": {},
   "outputs": [],
   "source": [
    "#Check database thats all correct\n",
    "pd.read_sql(\"\"\"SELECT name from sqlite_schema where type='table'\"\"\",engine)"
   ]
  },
  {
   "cell_type": "markdown",
   "id": "ab7d7dbf",
   "metadata": {},
   "source": [
    "### Trading Strategy\n",
    "Get two SMA lines - 50 and 100 lines of data. If SMA1 cross SMA2, buy position with 3% stop loss and 4% take profit"
   ]
  },
  {
   "cell_type": "code",
   "execution_count": null,
   "id": "6c9f2f9e",
   "metadata": {},
   "outputs": [],
   "source": [
    "class SMACross(Strategy):\n",
    "    n1 = 50\n",
    "    n2 = 100\n",
    "    \n",
    "    def init(self):\n",
    "        close = self.data.Close\n",
    "        self.sma1 = self.I(SMA, close, self.n1)\n",
    "        self.sma2 = self.I(SMA, close, self.n2)\n",
    "    \n",
    "    def next(self):\n",
    "        price = self.data.Close\n",
    "        if crossover(self.sma1, self.sma2):\n",
    "            sl = price - price*0.03\n",
    "            tp = price + price*0.04\n",
    "            self.buy(sl = sl, tp = tp)"
   ]
  },
  {
   "cell_type": "markdown",
   "id": "35bd9b5e",
   "metadata": {},
   "source": [
    "Change dataframe interval. Original data is __1 minute row__. resampleOHLS conver it to new choosed interval. OHLC form is Backtesting library requirement"
   ]
  },
  {
   "cell_type": "code",
   "execution_count": null,
   "id": "f0bc53c2",
   "metadata": {},
   "outputs": [],
   "source": [
    "def resampleOHLC(df, interval):\n",
    "    df = df.resample(interval).agg({\n",
    "        'Open':'first',\n",
    "        'High':'max',\n",
    "        'Low':'min',\n",
    "        'Close':'last'\n",
    "    })\n",
    "    return df"
   ]
  },
  {
   "cell_type": "markdown",
   "id": "1095d317",
   "metadata": {},
   "source": [
    "Backtesting function. For each stock in list get data from start to date 30 days ago today, convert it in OHLC format with datetime index and make backtesting with parameters. Exclusive order mean that we have only one order at time, new order automatically close previos order. __run__ method returns a pandas Series of simulation results and statistics associated with our strategy."
   ]
  },
  {
   "cell_type": "code",
   "execution_count": null,
   "id": "e71db7f1",
   "metadata": {},
   "outputs": [],
   "source": [
    "def BT(interval):\n",
    "    res = []\n",
    "    for stock in stoks_list:\n",
    "        query = f\"\"\"SELECT * from '{stock}'\n",
    "        where Date < '{pd.to_datetime('today') - timedelta(days = 30)}'\"\"\"\n",
    "        df = pd.read_sql(query,engine).set_index('Date')\n",
    "        df.index = pd.to_datetime(df.index)\n",
    "        df = resampleOHLC(df,interval)\n",
    "        bt = Backtest(df, SMACross, cash = 10000, commission = 0.0015, exclusive_orders = True)\n",
    "        output = bt.run()\n",
    "        res.append(output['Return [%]'])\n",
    "    frame  = pd.DataFrame(res, index=stoks_list, columns=['ret'])\n",
    "    top = frame.nlargest(3,'ret')\n",
    "    return top, interval\n",
    "        "
   ]
  },
  {
   "cell_type": "markdown",
   "id": "bc82231a",
   "metadata": {},
   "source": [
    "__validate__ function is similar backtesting, but get data from 30 days ago by today"
   ]
  },
  {
   "cell_type": "code",
   "execution_count": null,
   "id": "6cc34dd5",
   "metadata": {},
   "outputs": [],
   "source": [
    "def validate(top, interval):\n",
    "    res = []\n",
    "    for stock in top.index:\n",
    "        query = f\"\"\"SELECT * from '{stock}'\n",
    "        where Date > '{pd.to_datetime('today') - timedelta(days = 30)}'\"\"\"\n",
    "        df = pd.read_sql(query,engine).set_index('Date')\n",
    "        df.index = pd.to_datetime(df.index)\n",
    "        df = resampleOHLC(df,interval)\n",
    "        bt = Backtest(df, SMACross, cash = 10000, commission = 0.0015, exclusive_orders = True)\n",
    "        output = bt.run()\n",
    "        res.append(output['Return [%]'])\n",
    "    outcome = pd.DataFrame(res, index = top.index, columns=['ret'])\n",
    "    return outcome"
   ]
  },
  {
   "cell_type": "markdown",
   "id": "a689b3a7",
   "metadata": {},
   "source": [
    "Then get top 3 stocks from backtesting data and check it with validate function on next period. Return mean result of strategy "
   ]
  },
  {
   "cell_type": "code",
   "execution_count": null,
   "id": "874583f2",
   "metadata": {},
   "outputs": [],
   "source": [
    "def run(interval):\n",
    "    bt_result, interval = BT(interval)\n",
    "    valid = validate(bt_result, interval)\n",
    "    return valid.ret.mean()"
   ]
  },
  {
   "cell_type": "markdown",
   "id": "8c59b5c2",
   "metadata": {},
   "source": [
    "With this function we generate different intervals for calculate SMA and print mean values from top 3 backtesting stocks for this interval"
   ]
  },
  {
   "cell_type": "code",
   "execution_count": null,
   "id": "7e51f4e2",
   "metadata": {},
   "outputs": [],
   "source": [
    "scale = 'min'\n",
    "for i in range(10,75,5):\n",
    "    print(f'Return for {i}{scale}')\n",
    "    print(run(f'{i}{scale}'))"
   ]
  }
 ],
 "metadata": {
  "kernelspec": {
   "display_name": "Python 3 (ipykernel)",
   "language": "python",
   "name": "python3"
  },
  "language_info": {
   "codemirror_mode": {
    "name": "ipython",
    "version": 3
   },
   "file_extension": ".py",
   "mimetype": "text/x-python",
   "name": "python",
   "nbconvert_exporter": "python",
   "pygments_lexer": "ipython3",
   "version": "3.10.6"
  }
 },
 "nbformat": 4,
 "nbformat_minor": 5
}
